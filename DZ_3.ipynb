{
 "cells": [
  {
   "cell_type": "code",
   "execution_count": 32,
   "metadata": {},
   "outputs": [],
   "source": [
    "# Загружаем библиотеки:\n",
    "# для работы с математикой\n",
    "import numpy as np\n",
    "# для понижения размерности данных\n",
    "from sklearn.decomposition import PCA\n",
    "# для построения графиков\n",
    "import matplotlib.pyplot as plt \n",
    "# для оценки точности\n",
    "from sklearn.metrics import mean_squared_error"
   ]
  },
  {
   "cell_type": "markdown",
   "metadata": {},
   "source": [
    "### Уровень 0"
   ]
  },
  {
   "cell_type": "markdown",
   "metadata": {},
   "source": [
    "Задание: создать матрицу диагональную, ортогональную, но не единичную\n",
    "\n",
    "Рассмотрим диагональную матрицу размерностью 2х2 с неизвестными x и y\n",
    "$$\n",
    "A = \\begin{pmatrix}\n",
    "x&0\\\\\n",
    "0&y\n",
    "\\end{pmatrix}\n",
    "$$\n",
    "Для ортогональной матрицы должно выполняться условие\n",
    "$$\n",
    "A \\cdot A^T = \n",
    "\\begin{pmatrix}\n",
    "  x&0\\\\\n",
    "  0&y\n",
    "\\end{pmatrix}\\cdot\n",
    "\\begin{pmatrix}\n",
    "  x&0\\\\\n",
    "  0&y\n",
    "\\end{pmatrix}=\n",
    "\\begin{pmatrix}\n",
    "  1&0\\\\\n",
    "  0&1\n",
    "\\end{pmatrix}\n",
    "$$\n",
    "Преобразуем в систему уравнений\n",
    "$$ x^2 = 1 $$\n",
    "$$ y^2 = 1 $$\n",
    "Получаем четыре варианта решения\n",
    "$$ x = \\pm1 $$\n",
    "$$ y = \\pm1 $$"
   ]
  },
  {
   "cell_type": "code",
   "execution_count": 2,
   "metadata": {},
   "outputs": [
    {
     "name": "stdout",
     "output_type": "stream",
     "text": [
      "Матрица диагональная, ортогональная, но не единичная\n",
      "[[-1  0]\n",
      " [ 0 -1]]\n"
     ]
    }
   ],
   "source": [
    "A = np.diag([-1, -1])\n",
    "print(f'Матрица диагональная, ортогональная, но не единичная\\n{A}')"
   ]
  },
  {
   "cell_type": "markdown",
   "metadata": {},
   "source": [
    "Задание: создать матрицу верхнетреугольную, ортогональную\n",
    "\n",
    "Рассмотрим верхнетреугольную матрицу размерностью 2х2 с неизвестными x, y, z\n",
    "$$\n",
    "A = \\begin{pmatrix}\n",
    "x&y\\\\\n",
    "0&z\n",
    "\\end{pmatrix}\n",
    "$$\n",
    "Для ортогональной матрицы должно выполняться условие\n",
    "$$\n",
    "A \\cdot A^T = \n",
    "\\begin{pmatrix}\n",
    "  x&y\\\\\n",
    "  0&z\n",
    "\\end{pmatrix}\\cdot\n",
    "\\begin{pmatrix}\n",
    "  x&0\\\\\n",
    "  y&z\n",
    "\\end{pmatrix}=\n",
    "\\begin{pmatrix}\n",
    "  1&0\\\\\n",
    "  0&1\n",
    "\\end{pmatrix}\n",
    "$$\n",
    "Преобразуем в систему уравнений\n",
    "$$ x^2 + y^2 = 1 $$\n",
    "$$ z^2 = 1 $$\n",
    "$$ y \\cdot z = 0 $$\n",
    "По условию $у \\neq 0$, в таком случае система уравнений не имеет решения. Поэтому верхнетреугольной ортогональной матрицы не существует!  \n",
    "Аналогично для нижнетреугольной."
   ]
  },
  {
   "cell_type": "markdown",
   "metadata": {},
   "source": [
    "Задание: создать матрицу, у которой определитель = 1, и все элементы не равны 0\n",
    "\n",
    "Рассмотрим квадратную матрицу размерностью 2х2 с неизвестными x, y\n",
    "$$\n",
    "A = \\begin{pmatrix}\n",
    "x&y\\\\\n",
    "y&x\n",
    "\\end{pmatrix}\n",
    "$$  \n",
    "Определитель матрицы\n",
    "$$\n",
    "|A| = x^2 - y^2 = 1\n",
    "$$\n",
    "Отсюда\n",
    "$$ x = \\sqrt{1 + y^2} $$\n"
   ]
  },
  {
   "cell_type": "code",
   "execution_count": 3,
   "metadata": {},
   "outputs": [
    {
     "name": "stdout",
     "output_type": "stream",
     "text": [
      "Матрица, у которой определитель = 1, и все элементы не равны 0\n",
      "[[1.41421356 1.        ]\n",
      " [1.         1.41421356]]\n"
     ]
    }
   ],
   "source": [
    "A = np.array([[np.sqrt(2), 1], [1, np.sqrt(2)]])\n",
    "print(f'Матрица, у которой определитель = 1, и все элементы не равны 0\\n{A}')"
   ]
  },
  {
   "cell_type": "markdown",
   "metadata": {},
   "source": [
    "Задание: найти собственные значения и собственные вектора матрицы\n",
    "$$\n",
    "A = \\begin{pmatrix}\n",
    "2&2\\\\\n",
    "1&3\n",
    "\\end{pmatrix}\n",
    "$$  \n",
    "Находим собственные значения из характеристического уравнения\n",
    "$$\n",
    "|A - \\lambda I| = \n",
    "\\begin{vmatrix}\n",
    "2 - \\lambda&2\\\\\n",
    "1&3 -\\lambda\n",
    "\\end{vmatrix} = 0\n",
    "$$  \n",
    "$$\n",
    "\\lambda^2 -5\\lambda + 4 = 0\n",
    "$$\n",
    "$$\n",
    "\\lambda_1 = 1, \\lambda_2 = 4\n",
    "$$\n",
    "Собственные векторы для собственных значений:  \n",
    "- для $\\lambda_1 = 1 $\n",
    "$$\n",
    "x + 2y = 0 \\rightarrow x = -2y\n",
    "$$\n",
    "$$\n",
    "v_1 = \\begin{pmatrix}\n",
    "2\\\\\n",
    "-1\n",
    "\\end{pmatrix} \n",
    "$$\n",
    "- для $\\lambda_2 = 4 $\n",
    "$$ -2x + 2y = 0 $$\n",
    "$$ x - y = 0 \\rightarrow x = y $$ \n",
    "$$\n",
    "v_2 = \\begin{pmatrix}\n",
    "1\\\\\n",
    "1\n",
    "\\end{pmatrix} \n",
    "$$"
   ]
  },
  {
   "cell_type": "code",
   "execution_count": 4,
   "metadata": {},
   "outputs": [
    {
     "name": "stdout",
     "output_type": "stream",
     "text": [
      "Найти собственные значения и собственные вектора матрицы\n",
      "[[2 2]\n",
      " [1 3]]\n",
      "Собственное значение λ1 = 1.0, собственный вектор [-0.89442719  0.4472136 ]\n",
      "Собственное значение λ2 = 4.0, собственный вектор [-0.70710678 -0.70710678]\n"
     ]
    }
   ],
   "source": [
    "m = np.array([[2, 2],\n",
    "              [1, 3]])\n",
    "print(f'Найти собственные значения и собственные вектора матрицы\\n{m}')\n",
    "w, v = np.linalg.eig(m)\n",
    "print(f'Собственное значение λ1 = {w[0]}, собственный вектор {v[:,0]}')\n",
    "print(f'Собственное значение λ2 = {w[1]}, собственный вектор {v[:,1]}')"
   ]
  },
  {
   "cell_type": "markdown",
   "metadata": {},
   "source": [
    "### Уровень 1"
   ]
  },
  {
   "cell_type": "code",
   "execution_count": 5,
   "metadata": {},
   "outputs": [
    {
     "name": "stdout",
     "output_type": "stream",
     "text": [
      "Найти спектральное разложение матрицы\n",
      "A =\n",
      "[[1 2]\n",
      " [2 3]]\n",
      "Собственное значение λ1 = -0.2360679774997898, собственный вектор [-0.85065081  0.52573111]\n",
      "Собственное значение λ2 = 4.23606797749979, собственный вектор [-0.52573111 -0.85065081]\n",
      "Ортогональная матрица\n",
      "S =\n",
      "[[-0.85065081 -0.52573111]\n",
      " [ 0.52573111 -0.85065081]]\n",
      "Диагональная матрица\n",
      "D =\n",
      "[[-0.23606798  0.        ]\n",
      " [ 0.          4.23606798]]\n",
      "Cпектральное разложение A = S * D * S.T\n",
      "[[1. 2.]\n",
      " [2. 3.]]\n"
     ]
    }
   ],
   "source": [
    "# Найти спектральное разложение матрицы\n",
    "m = np.array([[1, 2],\n",
    "              [2, 3]])\n",
    "λ, S = np.linalg.eig(m)\n",
    "print(f'Найти спектральное разложение матрицы\\nA =\\n{m}')\n",
    "print(f'Собственное значение λ1 = {λ[0]}, собственный вектор {S[:,0]}')\n",
    "print(f'Собственное значение λ2 = {λ[1]}, собственный вектор {S[:,1]}')\n",
    "print(f'Ортогональная матрица\\nS =\\n{S}')\n",
    "print(f'Диагональная матрица\\nD =\\n{np.diag(λ)}')\n",
    "print(f'Cпектральное разложение A = S * D * S.T\\n{np.dot(S, np.diag(λ)).dot(S.T)}')"
   ]
  },
  {
   "cell_type": "markdown",
   "metadata": {},
   "source": [
    "#### Понижение размерности данных"
   ]
  },
  {
   "cell_type": "code",
   "execution_count": 98,
   "metadata": {},
   "outputs": [
    {
     "data": {
      "text/plain": [
       "<Figure size 432x288 with 0 Axes>"
      ]
     },
     "metadata": {},
     "output_type": "display_data"
    },
    {
     "data": {
      "image/png": "[encoded data removed]",
      "text/plain": [
       "<Figure size 288x288 with 1 Axes>"
      ]
     },
     "metadata": {
      "needs_background": "light"
     },
     "output_type": "display_data"
    }
   ],
   "source": [
    "# Исходные данные и соответсвующая им картинка\n",
    "from sklearn.datasets import load_digits\n",
    "digits = load_digits()\n",
    "data_init = digits.images[0]\n",
    "plt.gray() \n",
    "plt.matshow(data_init) \n",
    "plt.show() "
   ]
  },
  {
   "cell_type": "code",
   "execution_count": 99,
   "metadata": {},
   "outputs": [
    {
     "data": {
      "image/png": "[encoded data removed]",
      "text/plain": [
       "<Figure size 720x360 with 1 Axes>"
      ]
     },
     "metadata": {
      "needs_background": "light"
     },
     "output_type": "display_data"
    }
   ],
   "source": [
    "# Размерность нашего массива 8х8, поэтому вызываем модель с количеством компонентов от 0 до 8\n",
    "plt.figure(figsize = (10, 5))\n",
    "for n in range(9):\n",
    "    # Вызываем модель понижения размерности данных\n",
    "    pca = PCA(n_components = n)\n",
    "    # Применяем к нашим данным\n",
    "    pca.fit(data_init)\n",
    "    data_pca = pca.transform(data_init)\n",
    "    # Восстанавливаем данные с потерей информации\n",
    "    data_rec = pca.inverse_transform(data_pca)\n",
    "    # Оцениваем среднеквадратическую ошибку\n",
    "    MSE = mean_squared_error(data_init, data_rec)\n",
    "    plt.bar(n, MSE, color = 'grey', zorder = 2)\n",
    "    plt.text(n, MSE, s = round(MSE, 3), fontsize = 'x-large', verticalalignment = 'bottom', horizontalalignment = 'center')\n",
    "    \n",
    "    \n",
    "# Оформление и надписи\n",
    "plt.grid()\n",
    "plt.xticks(range(0, 9))\n",
    "plt.tick_params(labelsize = 'large')\n",
    "\n",
    "plt.title('Зависимость среднеквадратической ошибки\\nот количества компонент PCA', fontsize = 'x-large', fontweight = 'bold')\n",
    "plt.xlabel('Количество компонент PCA', fontsize = 'x-large')\n",
    "plt.ylabel('Среднеквадратическая ошибка MSE', fontsize = 'x-large')\n",
    "\n",
    "\n",
    "plt.show() "
   ]
  }
 ],
 "metadata": {
  "kernelspec": {
   "display_name": "Python 3",
   "language": "python",
   "name": "python3"
  },
  "language_info": {
   "codemirror_mode": {
    "name": "ipython",
    "version": 3
   },
   "file_extension": ".py",
   "mimetype": "text/x-python",
   "name": "python",
   "nbconvert_exporter": "python",
   "pygments_lexer": "ipython3",
   "version": "3.8.5"
  }
 },
 "nbformat": 4,
 "nbformat_minor": 4
}
